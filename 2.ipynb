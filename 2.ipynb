{
 "cells": [
  {
   "cell_type": "code",
   "execution_count": 61,
   "metadata": {},
   "outputs": [
    {
     "name": "stdout",
     "output_type": "stream",
     "text": [
      "[2, 4, 6, 1, 3, 5]\n"
     ]
    }
   ],
   "source": [
    "#Given a two list. Create a third list by picking an odd-index element from the \n",
    "#first list and even index elements from second.\n",
    "\n",
    "a=[1,2,3,4,5,6]\n",
    "b=[1,2,3,4,5,6]\n",
    "def lis(x,y):\n",
    "    c=x[1:len(x):2]\n",
    "    d=b[0:len(y):2]\n",
    "    c.extend(d)\n",
    "    return c\n",
    "p=lis(a,b)\n",
    "print(p)"
   ]
  },
  {
   "cell_type": "code",
   "execution_count": 6,
   "metadata": {},
   "outputs": [
    {
     "name": "stdout",
     "output_type": "stream",
     "text": [
      "e\n",
      "['a', 'b', 'e', 'c', 'd', 'f', 'g', 'e']\n"
     ]
    }
   ],
   "source": [
    "#Given an input list removes the element at index 4 and add it to the 2nd position and also, at the end of the list\n",
    "x=['a','b','c','d','e','f','g']\n",
    "y=x.pop(4)\n",
    "print(y)\n",
    "x.append(y)\n",
    "x.insert(2,y)\n",
    "print(x)"
   ]
  },
  {
   "cell_type": "code",
   "execution_count": 74,
   "metadata": {},
   "outputs": [
    {
     "name": "stdout",
     "output_type": "stream",
     "text": [
      "['a', 'b', 'c']\n",
      "['d', 'e', 'f']\n",
      "['g', 'h', 'i']\n",
      "c\n",
      "b\n",
      "a\n",
      "f\n",
      "e\n",
      "d\n",
      "i\n",
      "h\n",
      "g\n"
     ]
    }
   ],
   "source": [
    "#Given a list slice it into a 3 equal chunks and reverse each list\n",
    "p=['a','b','c','d','e','f','g','h','i']\n",
    "q=p[0:3]\n",
    "r=p[3:6]\n",
    "s=p[6:len(p)]\n",
    "print(q)\n",
    "print(r)\n",
    "print(s)\n",
    "for i in range(len(q)-1,-1,-1):\n",
    "    print(q[i])\n",
    "for i in range(len(r)-1,-1,-1):\n",
    "    print(r[i])\n",
    "for i in range(len(s)-1,-1,-1):\n",
    "    print(s[i])"
   ]
  },
  {
   "cell_type": "code",
   "execution_count": 87,
   "metadata": {},
   "outputs": [
    {
     "name": "stdout",
     "output_type": "stream",
     "text": [
      "{'a': [1, 2, 3, 4, 5, 6, 'a', 'b', 'c', 'd', 'e', 'f']}\n"
     ]
    }
   ],
   "source": [
    "#Given a two list of equal size create a set such that it shows the element from both lists in the pair\n",
    "a=[1,2,3,4,5,6]\n",
    "b=['a','b','c','d','e','f']\n",
    "a.extend(b)\n",
    "c={'a':a}\n",
    "print(c)"
   ]
  },
  {
   "cell_type": "code",
   "execution_count": null,
   "metadata": {},
   "outputs": [],
   "source": [
    "#Write a function that takes the base and height of a triangle and return its area.\n",
    "def areaoftraingle(a,b):\n",
    "    area=((a*b)/12)\n",
    "    return area"
   ]
  },
  {
   "cell_type": "code",
   "execution_count": 90,
   "metadata": {},
   "outputs": [
    {
     "name": "stdout",
     "output_type": "stream",
     "text": [
      "Enter the value:VIGNESH\n",
      "VIGNESH\n",
      "VGEH\n"
     ]
    }
   ],
   "source": [
    "#Accept string from the user and display only those characters which are present at an even index\n",
    "a=input('Enter the value:')\n",
    "print(a[0:len(a):2])"
   ]
  },
  {
   "cell_type": "code",
   "execution_count": 223,
   "metadata": {},
   "outputs": [
    {
     "name": "stdout",
     "output_type": "stream",
     "text": [
      "Enter the value:2\n",
      "Enter the value:10\n",
      "product of 2 given numbers is 20\n",
      "sum of 2 given numbers is 0\n"
     ]
    }
   ],
   "source": [
    "#Accept two int values from the user and return their product. If the product is greater than 1000, then return their sum\n",
    "a=int(input('Enter the value:'))\n",
    "b=int(input('Enter the value:'))\n",
    "def product(x,y):\n",
    "    p=x*y\n",
    "    q=0\n",
    "    if p>1000:\n",
    "        q=x+y\n",
    "    return p,q\n",
    "M,N=product(a,b)\n",
    "print(\"product of 2 given numbers is\",M)\n",
    "print(\"sum of 2 given numbers is\",N)"
   ]
  },
  {
   "cell_type": "code",
   "execution_count": 118,
   "metadata": {},
   "outputs": [
    {
     "name": "stdout",
     "output_type": "stream",
     "text": [
      "True\n"
     ]
    }
   ],
   "source": [
    "#Given a list of ints, return True if first and last number of a list is same\n",
    "a=[1,2,3,4,5,6,7,8,9,8,7,6,5,4,3,2,1]\n",
    "def comparison(x):\n",
    "    if(x[0]==x[len(x)-1]):\n",
    "        b= True\n",
    "    else:\n",
    "        b=False\n",
    "    return b\n",
    "print(comparison(a))"
   ]
  },
  {
   "cell_type": "code",
   "execution_count": 5,
   "metadata": {},
   "outputs": [
    {
     "name": "stdout",
     "output_type": "stream",
     "text": [
      "Enter the value:5\n",
      " *\n",
      " * *\n",
      " * * *\n",
      " * * * *\n",
      " * * * * *\n"
     ]
    }
   ],
   "source": [
    "#Print the following pattern\n",
    "n = int(input('Enter the value:'))\n",
    "def numpat(n):  \n",
    "    for i in range(1, n+1):  \n",
    "        for j in range(1, i+1):  \n",
    "            print( end=\" \"'*') \n",
    "            #j=j+1\n",
    "        print(\"\\r\")  \n",
    "numpat(n)       "
   ]
  },
  {
   "cell_type": "code",
   "execution_count": 191,
   "metadata": {},
   "outputs": [
    {
     "name": "stdout",
     "output_type": "stream",
     "text": [
      "Enter the string:Vignesh\n",
      "7\n"
     ]
    }
   ],
   "source": [
    "#Given a string input Count all lower case, upper case, digits, and special symbols\n",
    "a=str(input('Enter the string:'))\n",
    "def count(str):\n",
    "    i=0\n",
    "    for x in str:\n",
    "        i=i+1\n",
    "    return i\n",
    "print(count(a))"
   ]
  },
  {
   "cell_type": "code",
   "execution_count": 193,
   "metadata": {},
   "outputs": [
    {
     "name": "stdout",
     "output_type": "stream",
     "text": [
      "Enter the minutes:5\n",
      "300\n"
     ]
    }
   ],
   "source": [
    "#Write a function that takes an integer minutes and converts it to seconds.\n",
    "minutes=int(input('Enter the minutes:'))\n",
    "def seconds(x):\n",
    "    sec=x*60\n",
    "    return sec\n",
    "print(seconds(minutes))"
   ]
  },
  {
   "cell_type": "code",
   "execution_count": 233,
   "metadata": {},
   "outputs": [
    {
     "name": "stdout",
     "output_type": "stream",
     "text": [
      "50\n"
     ]
    }
   ],
   "source": [
    "#Count__number_between_first_and_last_1\n",
    "a='0000010010000000001000000000000000100000001010101010111'\n",
    "#print(len(a))\n",
    "#print(a.rfind('1'))\n",
    "def counting(x):\n",
    "    i=1\n",
    "    for m in range(x.find('1'),x.rfind('1')):\n",
    "        i=i+1\n",
    "    return i\n",
    "print(counting(a))\n",
    "        "
   ]
  },
  {
   "cell_type": "code",
   "execution_count": 1,
   "metadata": {},
   "outputs": [
    {
     "name": "stdout",
     "output_type": "stream",
     "text": [
      "[1, 2, 3, 4, 5, 6, 7, 8, 9]\n",
      "[1, 2, 3, 4, 6, 7, 8, 9]\n",
      "[1, 2, 5, 4, 6, 7, 8, 9, 5]\n"
     ]
    }
   ],
   "source": [
    "#Given an input list removes the element at index 4 and add it to the 2nd position and also, at the end of the list\n",
    "a=[1,2,3,4,5,6,7,8,9]\n",
    "print(a)\n",
    "b=a.pop(4)\n",
    "print(a)\n",
    "a[2]=b\n",
    "a.append(b)\n",
    "print(a)"
   ]
  },
  {
   "cell_type": "code",
   "execution_count": 2,
   "metadata": {},
   "outputs": [
    {
     "name": "stdout",
     "output_type": "stream",
     "text": [
      "Enter the value:vicky\n",
      "ick\n"
     ]
    }
   ],
   "source": [
    "#Given a string of odd length greater 7, return a string made of the middle three chars of a given String\n",
    "#def MiddleThreeChars(x):\n",
    " #   b = x[int(len(x) /2)-1:int(len(x) /2)+2]\n",
    "  #  return b\n",
    "  #a = int(len(x) /2)\n",
    "  #b = x[int(len(x) /2)-1:int(len(x) /2)+2]\n",
    "  \n",
    "a=str(input('Enter the value:'))\n",
    "if len(a)>4:\n",
    "    print(a[int(len(a) /2)-1:int(len(a) /2)+2])\n",
    "else:\n",
    "    print(\"middle three characters cannot be printed in this small string\")\n",
    "#print(MiddleThreeChars(a))"
   ]
  },
  {
   "cell_type": "code",
   "execution_count": 10,
   "metadata": {},
   "outputs": [
    {
     "name": "stdout",
     "output_type": "stream",
     "text": [
      "y 6\n",
      "o 3\n",
      "u 2\n",
      "n 3\n",
      "g 1\n",
      "h 1\n",
      "t 1\n",
      "i 1\n"
     ]
    }
   ],
   "source": [
    "#Enter string: yyyyoounnnghyytuio\n",
    "a='yyyyoounnnghyytuio'\n",
    "count=0\n",
    "b=dict()\n",
    "for i in a:\n",
    "    count=a.count(i)\n",
    "    b[i]=count\n",
    "for j,k in b.items():\n",
    "    print(j,k)\n",
    "#print(b)"
   ]
  }
 ],
 "metadata": {
  "kernelspec": {
   "display_name": "Python 3",
   "language": "python",
   "name": "python3"
  },
  "language_info": {
   "codemirror_mode": {
    "name": "ipython",
    "version": 3
   },
   "file_extension": ".py",
   "mimetype": "text/x-python",
   "name": "python",
   "nbconvert_exporter": "python",
   "pygments_lexer": "ipython3",
   "version": "3.7.4"
  }
 },
 "nbformat": 4,
 "nbformat_minor": 2
}
