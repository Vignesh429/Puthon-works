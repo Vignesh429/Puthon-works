{
 "cells": [
  {
   "cell_type": "code",
   "execution_count": 3,
   "metadata": {},
   "outputs": [
    {
     "name": "stdout",
     "output_type": "stream",
     "text": [
      "10\n",
      "apple\n",
      "(1+5j)\n",
      "None\n"
     ]
    }
   ],
   "source": [
    "a=10\n",
    "b='apple'\n",
    "c=1+5j\n",
    "print(a)\n",
    "print(b)\n",
    "print(c)\n",
    "# def vicky(a,b,c):\n",
    "#     x=a\n",
    "#     y=b\n",
    "#     z=c\n",
    "# return x,y,z\n",
    "\n",
    "print(vicky('orange',25,-5j))\n"
   ]
  },
  {
   "cell_type": "code",
   "execution_count": 5,
   "metadata": {},
   "outputs": [
    {
     "data": {
      "text/plain": [
       "'10apple'"
      ]
     },
     "execution_count": 5,
     "metadata": {},
     "output_type": "execute_result"
    }
   ],
   "source": [
    "str(a)+b"
   ]
  },
  {
   "cell_type": "code",
   "execution_count": 13,
   "metadata": {},
   "outputs": [
    {
     "name": "stdout",
     "output_type": "stream",
     "text": [
      "0\n",
      "3.0\n"
     ]
    }
   ],
   "source": [
    "print (4-2*2)\n",
    "print (9/3)"
   ]
  },
  {
   "cell_type": "code",
   "execution_count": 17,
   "metadata": {},
   "outputs": [
    {
     "name": "stdout",
     "output_type": "stream",
     "text": [
      "Hello\n",
      "[12, 'world']\n",
      "Me2\n"
     ]
    }
   ],
   "source": [
    "mylist = [\"Hello\",12,\"world\",11.111,'Me2']\n",
    "print(mylist[0])\n",
    "print(mylist[1:3])\n",
    "print(mylist[-1])"
   ]
  },
  {
   "cell_type": "code",
   "execution_count": 14,
   "metadata": {},
   "outputs": [
    {
     "name": "stdout",
     "output_type": "stream",
     "text": [
      "[1, 2, 3, 4, 'A', 'B', 'C']\n",
      "[1, 2, 3, 4, ['A', 'B', 'C']]\n",
      "[1, 2, 3, 4, ['A', 'B', 'C'], 'A', 'B', 'C']\n"
     ]
    }
   ],
   "source": [
    "a,b=[1,2,3,4],['A','B','C']\n",
    "\n",
    "print(a+b)\n",
    "a.append(b)\n",
    "print(a)\n",
    "a.extend(b)\n",
    "print(a)"
   ]
  },
  {
   "cell_type": "code",
   "execution_count": 12,
   "metadata": {},
   "outputs": [
    {
     "name": "stdout",
     "output_type": "stream",
     "text": [
      "None\n",
      "None\n"
     ]
    }
   ],
   "source": [
    "a=['a','b','c']\n",
    "b=['A','B','C']\n",
    "print(a.append(b))\n",
    "print(a.extend(b))"
   ]
  },
  {
   "cell_type": "code",
   "execution_count": 25,
   "metadata": {},
   "outputs": [
    {
     "name": "stdout",
     "output_type": "stream",
     "text": [
      "4.0\n",
      "2\n",
      "2.5\n"
     ]
    }
   ],
   "source": [
    "a=4\n",
    "b=2.5\n",
    "print(float(a))\n",
    "print(int(b))\n",
    "print(str(b))"
   ]
  },
  {
   "cell_type": "code",
   "execution_count": 3,
   "metadata": {},
   "outputs": [
    {
     "name": "stdout",
     "output_type": "stream",
     "text": [
      "<class 'float'>\n",
      "2\n"
     ]
    }
   ],
   "source": [
    "a =2.5\n",
    "print(type(a))\n",
    "b=int(a)\n",
    "print(int(b))\n",
    "#print(float(a))"
   ]
  },
  {
   "cell_type": "code",
   "execution_count": 1,
   "metadata": {},
   "outputs": [
    {
     "name": "stdout",
     "output_type": "stream",
     "text": [
      "(1, 2, 3, 4)\n",
      "{1, 2, 3, 4}\n",
      "[5, 6, 7, 8]\n",
      "{8, 5, 6, 7}\n",
      "['b', 'a', 'd', 'c']\n",
      "('b', 'a', 'd', 'c')\n"
     ]
    }
   ],
   "source": [
    "a=[1,2,3,4]\n",
    "b=(5,6,7,8)\n",
    "c={'a','b','c','d'}\n",
    "print(tuple(a))\n",
    "print(set(a))\n",
    "print(list(b))\n",
    "print(set(b))\n",
    "print(list(c))\n",
    "print(tuple(c))"
   ]
  },
  {
   "cell_type": "code",
   "execution_count": 4,
   "metadata": {},
   "outputs": [
    {
     "name": "stdout",
     "output_type": "stream",
     "text": [
      "(5, 8, 9, 6, 1, 3, 5, 7)\n"
     ]
    }
   ],
   "source": [
    "a=(5,8,9,6,1,3,5,7)\n",
    "print(a)"
   ]
  },
  {
   "cell_type": "code",
   "execution_count": 5,
   "metadata": {},
   "outputs": [
    {
     "name": "stdout",
     "output_type": "stream",
     "text": [
      "9\n"
     ]
    }
   ],
   "source": [
    "print(a[2])"
   ]
  },
  {
   "cell_type": "code",
   "execution_count": 7,
   "metadata": {},
   "outputs": [
    {
     "name": "stdout",
     "output_type": "stream",
     "text": [
      "\n",
      " arranging characters giving precedence to lowercase letters:\n",
      "yaivePNT\n"
     ]
    }
   ],
   "source": [
    "inputStr = \"PyNaTive\"\n",
    "words = inputStr.split()\n",
    "lower = []\n",
    "upper = []\n",
    "for char in inputStr:\n",
    "    if char.islower():\n",
    "        lower.append(char)\n",
    "    else:\n",
    "        upper.append(char)\n",
    "sortedString = ''.join(lower + upper)\n",
    "print(\"\\n arranging characters giving precedence to lowercase letters:\")\n",
    "print(sortedString)"
   ]
  }
 ],
 "metadata": {
  "kernelspec": {
   "display_name": "Python 3",
   "language": "python",
   "name": "python3"
  },
  "language_info": {
   "codemirror_mode": {
    "name": "ipython",
    "version": 3
   },
   "file_extension": ".py",
   "mimetype": "text/x-python",
   "name": "python",
   "nbconvert_exporter": "python",
   "pygments_lexer": "ipython3",
   "version": "3.7.4"
  }
 },
 "nbformat": 4,
 "nbformat_minor": 2
}
